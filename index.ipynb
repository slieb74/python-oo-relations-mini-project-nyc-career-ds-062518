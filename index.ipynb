{
 "cells": [
  {
   "cell_type": "markdown",
   "metadata": {},
   "source": [
    "# Python - Object Relationships Project"
   ]
  },
  {
   "cell_type": "markdown",
   "metadata": {},
   "source": [
    "## Introduction\n",
    "In this lab we are going to practice object relationships in Python with an emphasis on has-many-through relationships. We will be building out a domain model for Guests, Invites, Dinner Parties, Courses, Recipes, and Reviews. A guest will have a collection of invites, which will relate a guest to a dinner party, thus creating the has many through relationship between a user and a dinner party. Just like any good dinner party there will be more than just one thing to eat, which means that a dinner party will have a collection of courses. Since not all courses will be unique across all dinner parties, a recipe will have also have many courses. A recipe also has many reviews, which are given directly by guests, so, guests will also have many reviews as well.\n",
    "\n",
    "Read through the deliverables below to begin building out these six classes and to figure out additional information about their relationships. \n",
    "> **Note:** You may not be able to build out all methods until you have set up relationships between the classes, so it is normal to jump around a bit in the building process. If you are confused about how the models below relate to each other, it may help to draw this out on a whiteboard before beginning to code."
   ]
  },
  {
   "cell_type": "code",
   "execution_count": 1,
   "metadata": {},
   "outputs": [],
   "source": [
    "%load_ext autoreload\n",
    "%autoreload 2\n",
    "\n",
    "#%reload_ext autoreload"
   ]
  },
  {
   "cell_type": "code",
   "execution_count": 2,
   "metadata": {},
   "outputs": [],
   "source": [
    "from guest import Guest\n",
    "from invite import Invite\n",
    "from dinnerparty import DinnerParty\n",
    "from recipe import Recipe\n",
    "from review import Review\n",
    "from course import Course"
   ]
  },
  {
   "cell_type": "markdown",
   "metadata": {},
   "source": [
    "## Objectives\n",
    "* Define classes according to their approproate relationships\n",
    "* Create instance and class methods that leverage the has many through relationships"
   ]
  },
  {
   "cell_type": "code",
   "execution_count": 3,
   "metadata": {},
   "outputs": [],
   "source": [
    "guest_1 = Guest(\"Dwight Schrute\")\n",
    "guest_2 = Guest(\"Michael Scott\")\n",
    "guest_3 = Guest(\"Pam Beasley\")\n",
    "\n",
    "dinner_party_1 = DinnerParty(\"Office Christmas Party\")\n",
    "dinner_party_2 = DinnerParty(\"Your parent's friend's\")\n",
    "dinner_party_3 = DinnerParty(\"Friend's House Warming\")\n",
    "\n",
    "invite_1 = Invite(dinner_party_1, guest_1, True)\n",
    "invite_2 = Invite(dinner_party_1, guest_2, False)\n",
    "invite_3 = Invite(dinner_party_1, guest_3, True)\n",
    "invite_4 = Invite(dinner_party_2, guest_1)\n",
    "invite_5 = Invite(dinner_party_3, guest_1)\n",
    "\n",
    "recipe_1 = Recipe(\"Disaster\")\n",
    "recipe_2 = Recipe(\"Punch\")\n",
    "recipe_3 = Recipe(\"Cookies\")\n",
    "recipe_4 = Recipe(\"Punch\")\n",
    "recipe_5 = Recipe(\"Cookies\")\n",
    "recipe_6 = Recipe(\"Punch\")\n",
    "\n",
    "course_1 = Course(dinner_party_1, recipe_1)\n",
    "course_2 = Course(dinner_party_1, recipe_2)\n",
    "course_3 = Course(dinner_party_1, recipe_3)\n",
    "course_4 = Course(dinner_party_1, recipe_4)\n",
    "course_5 = Course(dinner_party_2, recipe_5)\n",
    "course_6 = Course(dinner_party_2, recipe_6)\n",
    "course_7 = Course(dinner_party_2, recipe_2)\n",
    "\n",
    "review_1 = Review(guest_1, recipe_1, 3, \"the Disaster wasn't as bad as I would've liked\")\n",
    "review_2 = Review(guest_2, recipe_1, 5, \"It was total chaos, exceeded expectations\")\n",
    "review_3 = Review(guest_3, recipe_1, 4, \"Just disastrous, nothing more\")\n",
    "review_4 = Review(guest_1, recipe_2, 2, \"way too much pineapple juice!\")\n",
    "review_5 = Review(guest_2, recipe_2, 2, \"not enough pineapple juice!\")\n",
    "review_6 = Review(guest_3, recipe_2, 3, \"right amount of pineapple juice, but wasn't anything to write home about\")\n",
    "review_7 = Review(guest_1, recipe_3, 2, \"I don't like cookies, that's all.\")\n",
    "review_8 = Review(guest_2, recipe_1, 4, \"Pretty disastrous, nothing more\")\n",
    "review_9 = Review(guest_3, recipe_1, 4, \"Meh, I've seen more bedlam\")\n",
    "review_10 = Review(guest_1, recipe_4, 1, \"It was more of a slap in the face\")"
   ]
  },
  {
   "cell_type": "markdown",
   "metadata": {},
   "source": [
    "### Guest\n",
    "\n",
    "\n",
    "**Class Methods:**\n",
    "* `Guest.all()` returns a list of all guest instances\n",
    "* `Guest.most_popular()` returns the guest invited to the most dinner parties\n",
    "* `Guest.toughest_critic()` returns the guest with lowest average rating for recipe reviews\n",
    "* `Guest.most_active_critic()` returns the guest with most recipe reviews\n",
    "\n",
    "**Instance Methods:**\n",
    "* `guest.invites()` returns a list of all of the guest's invites\n",
    "* `guest.reviews()` returns a list of all of the guest's reviews\n",
    "* `guest.number_of_invites()` returns the number of dinner party invites a guest has recieved \n",
    "* `guest.rsvp(invite, rsvp_status)` takes in a boolean value (True or False) and updates a guest's rsvp status. It should return the rsvp_status status\n",
    "* `guest.review_recipe(recipe, rating, comment)` adds a guest's review with a rating and comment to a recipe. Returns the given recipe's reviews\n",
    "* `guest.favorite_recipe()` returns the given guest's favorite recipe"
   ]
  },
  {
   "cell_type": "code",
   "execution_count": 4,
   "metadata": {},
   "outputs": [
    {
     "data": {
      "text/plain": [
       "[<guest.Guest at 0x107d9e1d0>,\n",
       " <guest.Guest at 0x107d9e198>,\n",
       " <guest.Guest at 0x107d9e208>]"
      ]
     },
     "execution_count": 4,
     "metadata": {},
     "output_type": "execute_result"
    }
   ],
   "source": [
    "Guest._all"
   ]
  },
  {
   "cell_type": "code",
   "execution_count": 5,
   "metadata": {},
   "outputs": [
    {
     "data": {
      "text/plain": [
       "[<invite.Invite at 0x107d9e2e8>,\n",
       " <invite.Invite at 0x107d9e400>,\n",
       " <invite.Invite at 0x107d9e390>]"
      ]
     },
     "execution_count": 5,
     "metadata": {},
     "output_type": "execute_result"
    }
   ],
   "source": [
    "guest_1.invites()"
   ]
  },
  {
   "cell_type": "code",
   "execution_count": 6,
   "metadata": {},
   "outputs": [
    {
     "data": {
      "text/plain": [
       "[<review.Review at 0x107d9e748>,\n",
       " <review.Review at 0x107d9e828>,\n",
       " <review.Review at 0x107d9e8d0>]"
      ]
     },
     "execution_count": 6,
     "metadata": {},
     "output_type": "execute_result"
    }
   ],
   "source": [
    "guest_2.reviews()"
   ]
  },
  {
   "cell_type": "code",
   "execution_count": 7,
   "metadata": {},
   "outputs": [
    {
     "data": {
      "text/plain": [
       "<recipe.Recipe at 0x107d9e320>"
      ]
     },
     "execution_count": 7,
     "metadata": {},
     "output_type": "execute_result"
    }
   ],
   "source": [
    "guest_1.favorite_recipe()"
   ]
  },
  {
   "cell_type": "markdown",
   "metadata": {},
   "source": [
    "### Invite\n",
    "**Class Methods:**\n",
    "* `Invite.all()` returns a list of all invite instances\n",
    "\n",
    "**Instance Methods:**\n",
    "* `invite.accepted` returns a boolean value (true or false) for whether the the guest accepted the invite or not\n",
    "* `invite.guest` returns the given invite's guest instance\n",
    "* `invite.dinner_party` returns the given invite's dinner party instance"
   ]
  },
  {
   "cell_type": "code",
   "execution_count": 8,
   "metadata": {},
   "outputs": [],
   "source": [
    "#guest_1.rsvp(invite_1, True)"
   ]
  },
  {
   "cell_type": "code",
   "execution_count": 9,
   "metadata": {},
   "outputs": [
    {
     "data": {
      "text/plain": [
       "True"
      ]
     },
     "execution_count": 9,
     "metadata": {},
     "output_type": "execute_result"
    }
   ],
   "source": [
    "Invite._all[2]._rsvp_status"
   ]
  },
  {
   "cell_type": "code",
   "execution_count": 10,
   "metadata": {},
   "outputs": [
    {
     "data": {
      "text/plain": [
       "True"
      ]
     },
     "execution_count": 10,
     "metadata": {},
     "output_type": "execute_result"
    }
   ],
   "source": [
    "invite_3._rsvp_status"
   ]
  },
  {
   "cell_type": "code",
   "execution_count": 11,
   "metadata": {},
   "outputs": [
    {
     "data": {
      "text/plain": [
       "True"
      ]
     },
     "execution_count": 11,
     "metadata": {},
     "output_type": "execute_result"
    }
   ],
   "source": [
    "invite_3.accepted"
   ]
  },
  {
   "cell_type": "code",
   "execution_count": 12,
   "metadata": {},
   "outputs": [
    {
     "data": {
      "text/plain": [
       "[<invite.Invite at 0x107d9e2e8>,\n",
       " <invite.Invite at 0x107d9e358>,\n",
       " <invite.Invite at 0x107d9e3c8>,\n",
       " <invite.Invite at 0x107d9e400>,\n",
       " <invite.Invite at 0x107d9e390>]"
      ]
     },
     "execution_count": 12,
     "metadata": {},
     "output_type": "execute_result"
    }
   ],
   "source": [
    "Invite._all"
   ]
  },
  {
   "cell_type": "code",
   "execution_count": 13,
   "metadata": {},
   "outputs": [
    {
     "data": {
      "text/plain": [
       "[<guest.Guest at 0x107d9e1d0>, <guest.Guest at 0x107d9e208>]"
      ]
     },
     "execution_count": 13,
     "metadata": {},
     "output_type": "execute_result"
    }
   ],
   "source": [
    "dinner_party_1.guests()"
   ]
  },
  {
   "cell_type": "code",
   "execution_count": 14,
   "metadata": {
    "scrolled": true
   },
   "outputs": [
    {
     "data": {
      "text/plain": [
       "<recipe.Recipe at 0x107d9e320>"
      ]
     },
     "execution_count": 14,
     "metadata": {},
     "output_type": "execute_result"
    }
   ],
   "source": [
    "dinner_party_1.highest_rated_recipe()"
   ]
  },
  {
   "cell_type": "markdown",
   "metadata": {},
   "source": [
    "### DinnerParty\n",
    "**Class Methods:**\n",
    "* `DinnerParty.all()` returns a list of all dinner party instances\n",
    "\n",
    "**Instance Methods:**\n",
    "* `dinner_party.invites()` returns a list of all of invites handed out for the party\n",
    "* `dinner_party.guests()` returns a list of the party's guests\n",
    "* `dinner_party.number_of_attendees()` returns the number of guests who accepted their invite for the dinner party\n",
    "* `dinner_party.courses()` returns a list of the party's courses\n",
    "* `dinner_party.recipes()` returns a list of all the recipes for the courses featured at the given dinner party\n",
    "* `dinner_party.recipe_count()` returns the number of recipes for the given dinner party\n",
    "* `dinner_party.reviews()` returns a list of reviews for the recipes of a given dinner party\n",
    "* `dinner_party.highest_rated_recipe()` returns the highest rated recipe for the given dinner party"
   ]
  },
  {
   "cell_type": "markdown",
   "metadata": {},
   "source": [
    "### Course\n",
    "**Class Methods:**\n",
    "* `Course.all()` returns a list of all course instances\n",
    "\n",
    "**Instance Methods:**\n",
    "* `course.dinner_party` returns the dinner party instance for the given course\n",
    "* `course.recipe` returns the recpipe instance for the given course"
   ]
  },
  {
   "cell_type": "code",
   "execution_count": 15,
   "metadata": {},
   "outputs": [
    {
     "data": {
      "text/plain": [
       "<dinnerparty.DinnerParty at 0x107d9e240>"
      ]
     },
     "execution_count": 15,
     "metadata": {},
     "output_type": "execute_result"
    }
   ],
   "source": [
    "course_2.dinner_party"
   ]
  },
  {
   "cell_type": "markdown",
   "metadata": {},
   "source": [
    "### Review\n",
    "**Class Methods:**\n",
    "* `Review.all()` returns a list of all invite instances\n",
    "\n",
    "**Instance Methods:**\n",
    "* `review.rating` returns the given review's rating\n",
    "* `review.recipe` returns the given review's recipe\n",
    "* `review.reviewer` returns the given review's reviewer (guest instance)\n",
    "* `review.comment` returns the given review's comment, if there is one"
   ]
  },
  {
   "cell_type": "code",
   "execution_count": 16,
   "metadata": {},
   "outputs": [
    {
     "data": {
      "text/plain": [
       "<recipe.Recipe at 0x107d9e438>"
      ]
     },
     "execution_count": 16,
     "metadata": {},
     "output_type": "execute_result"
    }
   ],
   "source": [
    "Review._all[3].recipe"
   ]
  },
  {
   "cell_type": "markdown",
   "metadata": {},
   "source": [
    "### Recipe\n",
    "**Class Methods:**\n",
    "* `Recipe.all()` returns a list of all invite instances\n",
    "* `Recipe.top_three()` returns a list with the three recipe instances with the highest average rating\n",
    "* `Recipe.bottom_three()` returns a list with the three recipe instances with the lowest average rating\n",
    "\n",
    "**Instance Methods:**\n",
    "* `recipe.reviews()` returns a list of reviews for the given recipe\n",
    "* `recipe.top_five_reviews()` returns a list with the five review instances with the highest rating for the given recipe"
   ]
  },
  {
   "cell_type": "code",
   "execution_count": 17,
   "metadata": {},
   "outputs": [
    {
     "data": {
      "text/plain": [
       "[<recipe.Recipe at 0x107d9e320>,\n",
       " <recipe.Recipe at 0x107d9e438>,\n",
       " <recipe.Recipe at 0x107d9e470>,\n",
       " <recipe.Recipe at 0x107d9e4a8>,\n",
       " <recipe.Recipe at 0x107d9e4e0>,\n",
       " <recipe.Recipe at 0x107d9e518>]"
      ]
     },
     "execution_count": 17,
     "metadata": {},
     "output_type": "execute_result"
    }
   ],
   "source": [
    "Recipe._all"
   ]
  },
  {
   "cell_type": "code",
   "execution_count": 18,
   "metadata": {
    "scrolled": true
   },
   "outputs": [
    {
     "data": {
      "text/plain": [
       "[<recipe.Recipe at 0x107d9e320>,\n",
       " <recipe.Recipe at 0x107d9e438>,\n",
       " <recipe.Recipe at 0x107d9e470>]"
      ]
     },
     "execution_count": 18,
     "metadata": {},
     "output_type": "execute_result"
    }
   ],
   "source": [
    "Recipe.top_three()"
   ]
  },
  {
   "cell_type": "code",
   "execution_count": 19,
   "metadata": {},
   "outputs": [
    {
     "data": {
      "text/plain": [
       "[<review.Review at 0x107d9e748>,\n",
       " <review.Review at 0x107d9e7b8>,\n",
       " <review.Review at 0x107d9e8d0>,\n",
       " <review.Review at 0x107d9e908>,\n",
       " <review.Review at 0x107d9e6d8>]"
      ]
     },
     "execution_count": 19,
     "metadata": {},
     "output_type": "execute_result"
    }
   ],
   "source": [
    "recipe_1.top_five_reviews()"
   ]
  },
  {
   "cell_type": "markdown",
   "metadata": {},
   "source": [
    "## Summary\n"
   ]
  },
  {
   "cell_type": "markdown",
   "metadata": {},
   "source": [
    "Great work! In this lab we created a pretty complex domain model and defined some neat class and instance methods to leverage these has many through relationships. We could see that without these relationships, meaning without a review linking a recipe and a guest, it would become very difficult to organize our information and query it accurately like we do in a class method that gives us the top or bottom three recipes. "
   ]
  }
 ],
 "metadata": {
  "kernelspec": {
   "display_name": "Python 3",
   "language": "python",
   "name": "python3"
  },
  "language_info": {
   "codemirror_mode": {
    "name": "ipython",
    "version": 3
   },
   "file_extension": ".py",
   "mimetype": "text/x-python",
   "name": "python",
   "nbconvert_exporter": "python",
   "pygments_lexer": "ipython3",
   "version": "3.6.5"
  }
 },
 "nbformat": 4,
 "nbformat_minor": 2
}
